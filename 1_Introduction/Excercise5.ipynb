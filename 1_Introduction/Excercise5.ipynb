{
 "cells": [
  {
   "cell_type": "code",
   "execution_count": 7,
   "metadata": {},
   "outputs": [
    {
     "name": "stdout",
     "output_type": "stream",
     "text": [
      "Enter a Number :100\n",
      "100 is Divisible by 2\n",
      "100 is NOT a Prime Number\n"
     ]
    }
   ],
   "source": [
    "num = int(input(\"Enter a Number :\"))\n",
    "\n",
    "isDisivibe = False;\n",
    "\n",
    "i =2 \n",
    "\n",
    "while i < num:\n",
    "    if num % i == 0:\n",
    "        isDisivibe = True;\n",
    "        print(\"{} is Divisible by {}\".format(num,i))\n",
    "        break\n",
    "    i +=1\n",
    "    \n",
    "if isDisivibe:\n",
    "    print(\"{} is NOT a Prime Number\".format(num))\n",
    "else:\n",
    "    print(\"{} is  a Prime Number\".format(num))"
   ]
  },
  {
   "cell_type": "code",
   "execution_count": 6,
   "metadata": {},
   "outputs": [
    {
     "name": "stdout",
     "output_type": "stream",
     "text": [
      "1\n",
      "2\n",
      "3\n",
      "4\n",
      "5\n",
      "6\n",
      "7\n",
      "8\n",
      "inside the else block\n",
      "Outside of the loop\n"
     ]
    }
   ],
   "source": [
    "numbers = [1,2,3,4,5,6,7,8]\n",
    "\n",
    "for num in numbers:\n",
    "    if num ==9:\n",
    "        break\n",
    "    print(num)\n",
    "else:\n",
    "    print(\"inside the else block\")\n",
    "print(\"Outside of the loop\")"
   ]
  },
  {
   "cell_type": "code",
   "execution_count": 8,
   "metadata": {},
   "outputs": [
    {
     "name": "stdout",
     "output_type": "stream",
     "text": [
      "1\n",
      "3\n",
      "5\n",
      "else block\n"
     ]
    }
   ],
   "source": [
    "numbers = [1,2,3,4,5,6]\n",
    "\n",
    "for num in numbers:\n",
    "    if num %2 ==0:\n",
    "        continue\n",
    "    print(num)\n",
    "else:\n",
    "    print(\"else block\")"
   ]
  },
  {
   "cell_type": "code",
   "execution_count": 9,
   "metadata": {
    "collapsed": true
   },
   "outputs": [],
   "source": [
    "#List\n",
    "\n",
    "emptyList = []\n",
    "\n",
    "lst = [1,2,3,4]\n",
    "\n",
    "lst2 = ['one','two']\n",
    "\n",
    "lst3 = [1,2,'test']"
   ]
  },
  {
   "cell_type": "code",
   "execution_count": 10,
   "metadata": {},
   "outputs": [
    {
     "name": "stdout",
     "output_type": "stream",
     "text": [
      "4\n"
     ]
    }
   ],
   "source": [
    "#List Length\n",
    "\n",
    "lst = [1,2,3,4]\n",
    "\n",
    "print(len(lst))"
   ]
  },
  {
   "cell_type": "code",
   "execution_count": 11,
   "metadata": {},
   "outputs": [
    {
     "name": "stdout",
     "output_type": "stream",
     "text": [
      "['one', 'two', 'three']\n"
     ]
    }
   ],
   "source": [
    "# List Append\n",
    "\n",
    "lst2 = ['one','two']\n",
    "\n",
    "lst2.append('three') # will add elemet at end \n",
    "\n",
    "print(lst2)"
   ]
  },
  {
   "cell_type": "code",
   "execution_count": 12,
   "metadata": {},
   "outputs": [
    {
     "name": "stdout",
     "output_type": "stream",
     "text": [
      "['one', 'four', 'two', 'three']\n"
     ]
    }
   ],
   "source": [
    "#List Insert\n",
    "\n",
    "lst = ['one', 'two', 'three']\n",
    "lst.insert(1,\"four\")   # will add elemet y at location x\n",
    "print(lst)"
   ]
  },
  {
   "cell_type": "code",
   "execution_count": 17,
   "metadata": {},
   "outputs": [
    {
     "name": "stdout",
     "output_type": "stream",
     "text": [
      "['one', 'Four', 'two', 'three', 'four']\n"
     ]
    }
   ],
   "source": [
    "# List Remove\n",
    "lst = ['one', 'Four', 'two', 'three','four','four']\n",
    "\n",
    "lst.remove(\"four\")  #it will remove the first occurance of 'four' \\\n",
    "                    #in a given list\n",
    "\n",
    "print(lst)\n"
   ]
  },
  {
   "cell_type": "code",
   "execution_count": 15,
   "metadata": {},
   "outputs": [
    {
     "name": "stdout",
     "output_type": "stream",
     "text": [
      "['one', 'two', 'three', ['four', 'five']]\n"
     ]
    }
   ],
   "source": [
    "# List Append and Extend:\n",
    "\n",
    "lst = ['one', 'two', 'three']\n",
    "lst1 = ['four','five']\n",
    "lst.append(lst1)\n",
    "\n",
    "print(lst)"
   ]
  },
  {
   "cell_type": "code",
   "execution_count": 16,
   "metadata": {},
   "outputs": [
    {
     "name": "stdout",
     "output_type": "stream",
     "text": [
      "['one', 'two', 'three', 'four', 'five']\n"
     ]
    }
   ],
   "source": [
    "\n",
    "lst = ['one', 'two', 'three']\n",
    "lst1 = ['four','five']\n",
    "\n",
    "lst.extend(lst1)\n",
    "\n",
    "print(lst)"
   ]
  },
  {
   "cell_type": "code",
   "execution_count": 18,
   "metadata": {},
   "outputs": [
    {
     "name": "stdout",
     "output_type": "stream",
     "text": [
      "['one', 'two', 'three', 'five', 'six']\n"
     ]
    }
   ],
   "source": [
    "#Delete a elemet based on index value\n",
    "lst = ['one', 'four', 'two', 'three','five','six']\n",
    "\n",
    "del lst[1]\n",
    "\n",
    "print(lst)\n",
    "\n"
   ]
  },
  {
   "cell_type": "code",
   "execution_count": 19,
   "metadata": {},
   "outputs": [
    {
     "name": "stdout",
     "output_type": "stream",
     "text": [
      "['one', 'three', 'five', 'six']\n"
     ]
    }
   ],
   "source": [
    "lst.pop(1)\n",
    "\n",
    "print(lst)"
   ]
  },
  {
   "cell_type": "code",
   "execution_count": 20,
   "metadata": {},
   "outputs": [
    {
     "name": "stdout",
     "output_type": "stream",
     "text": [
      "['three', 'two', 'four', 'one']\n"
     ]
    }
   ],
   "source": [
    "# List reverse\n",
    "\n",
    "lst = ['one', 'four', 'two', 'three']\n",
    "lst.reverse()\n",
    "print(lst)"
   ]
  },
  {
   "cell_type": "code",
   "execution_count": 22,
   "metadata": {},
   "outputs": [
    {
     "name": "stdout",
     "output_type": "stream",
     "text": [
      "[3, 1, 2, 7, 6, 0, 10]\n",
      "[10, 7, 6, 3, 2, 1, 0]\n"
     ]
    }
   ],
   "source": [
    "# List Sorting\n",
    "\n",
    "numbers = [3,1,2,7,6,0,10]\n",
    "sorted_lst = sorted(numbers,reverse=True)\n",
    "\n",
    "print(numbers)\n",
    "print(sorted_lst)"
   ]
  },
  {
   "cell_type": "code",
   "execution_count": 23,
   "metadata": {},
   "outputs": [
    {
     "name": "stdout",
     "output_type": "stream",
     "text": [
      "[0, 1, 2, 3, 6, 7, 10]\n"
     ]
    }
   ],
   "source": [
    "numbers = [3,1,2,7,6,0,10]\n",
    "\n",
    "numbers.sort()\n",
    "\n",
    "print(numbers)\n",
    "\n"
   ]
  },
  {
   "cell_type": "code",
   "execution_count": 30,
   "metadata": {},
   "outputs": [
    {
     "name": "stdout",
     "output_type": "stream",
     "text": [
      "[1, 2, 3, 4, 5]\n",
      "[1, 2, 3, 4, 5]\n"
     ]
    }
   ],
   "source": [
    "# List Having Multiple References\n",
    "\n",
    "lst = [1,2,3,4,5]\n",
    "\n",
    "abc = lst.copy()\n",
    "print(abc)\n",
    "print(lst)"
   ]
  },
  {
   "cell_type": "code",
   "execution_count": 31,
   "metadata": {},
   "outputs": [],
   "source": [
    "abc.append(6)"
   ]
  },
  {
   "cell_type": "code",
   "execution_count": 32,
   "metadata": {},
   "outputs": [
    {
     "name": "stdout",
     "output_type": "stream",
     "text": [
      "[1, 2, 3, 4, 5, 6]\n",
      "[1, 2, 3, 4, 5]\n"
     ]
    }
   ],
   "source": [
    "print(abc)\n",
    "print(lst)"
   ]
  },
  {
   "cell_type": "code",
   "execution_count": null,
   "metadata": {
    "collapsed": true
   },
   "outputs": [],
   "source": []
  }
 ],
 "metadata": {
  "kernelspec": {
   "display_name": "Python 3",
   "language": "python",
   "name": "python3"
  },
  "language_info": {
   "codemirror_mode": {
    "name": "ipython",
    "version": 3
   },
   "file_extension": ".py",
   "mimetype": "text/x-python",
   "name": "python",
   "nbconvert_exporter": "python",
   "pygments_lexer": "ipython3",
   "version": "3.6.7"
  }
 },
 "nbformat": 4,
 "nbformat_minor": 2
}
